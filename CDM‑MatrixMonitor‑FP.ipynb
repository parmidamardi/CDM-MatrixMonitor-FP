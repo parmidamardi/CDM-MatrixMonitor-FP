{
  "nbformat": 4,
  "nbformat_minor": 0,
  "metadata": {
    "colab": {
      "provenance": [],
      "authorship_tag": "ABX9TyMbIxjZDWGf4J+mUsxZjpqA",
      "include_colab_link": true
    },
    "kernelspec": {
      "name": "python3",
      "display_name": "Python 3"
    },
    "language_info": {
      "name": "python"
    }
  },
  "cells": [
    {
      "cell_type": "markdown",
      "metadata": {
        "id": "view-in-github",
        "colab_type": "text"
      },
      "source": [
        "<a href=\"https://colab.research.google.com/github/parmidamardi/CDM-MatrixMonitor-FP/blob/main/CDM%E2%80%91MatrixMonitor%E2%80%91FP.ipynb\" target=\"_parent\"><img src=\"https://colab.research.google.com/assets/colab-badge.svg\" alt=\"Open In Colab\"/></a>"
      ]
    },
    {
      "cell_type": "code",
      "source": [
        "!pip install pandas numpy matplotlib seaborn openpyxl"
      ],
      "metadata": {
        "colab": {
          "base_uri": "https://localhost:8080/"
        },
        "id": "4Vi-3-552TwK",
        "outputId": "4f847921-2636-45a1-b4b9-2ce433b140d4"
      },
      "execution_count": 3,
      "outputs": [
        {
          "output_type": "stream",
          "name": "stdout",
          "text": [
            "Requirement already satisfied: pandas in /usr/local/lib/python3.12/dist-packages (2.2.2)\n",
            "Requirement already satisfied: numpy in /usr/local/lib/python3.12/dist-packages (2.0.2)\n",
            "Requirement already satisfied: matplotlib in /usr/local/lib/python3.12/dist-packages (3.10.0)\n",
            "Requirement already satisfied: seaborn in /usr/local/lib/python3.12/dist-packages (0.13.2)\n",
            "Requirement already satisfied: openpyxl in /usr/local/lib/python3.12/dist-packages (3.1.5)\n",
            "Requirement already satisfied: python-dateutil>=2.8.2 in /usr/local/lib/python3.12/dist-packages (from pandas) (2.9.0.post0)\n",
            "Requirement already satisfied: pytz>=2020.1 in /usr/local/lib/python3.12/dist-packages (from pandas) (2025.2)\n",
            "Requirement already satisfied: tzdata>=2022.7 in /usr/local/lib/python3.12/dist-packages (from pandas) (2025.2)\n",
            "Requirement already satisfied: contourpy>=1.0.1 in /usr/local/lib/python3.12/dist-packages (from matplotlib) (1.3.3)\n",
            "Requirement already satisfied: cycler>=0.10 in /usr/local/lib/python3.12/dist-packages (from matplotlib) (0.12.1)\n",
            "Requirement already satisfied: fonttools>=4.22.0 in /usr/local/lib/python3.12/dist-packages (from matplotlib) (4.60.1)\n",
            "Requirement already satisfied: kiwisolver>=1.3.1 in /usr/local/lib/python3.12/dist-packages (from matplotlib) (1.4.9)\n",
            "Requirement already satisfied: packaging>=20.0 in /usr/local/lib/python3.12/dist-packages (from matplotlib) (25.0)\n",
            "Requirement already satisfied: pillow>=8 in /usr/local/lib/python3.12/dist-packages (from matplotlib) (11.3.0)\n",
            "Requirement already satisfied: pyparsing>=2.3.1 in /usr/local/lib/python3.12/dist-packages (from matplotlib) (3.2.5)\n",
            "Requirement already satisfied: et-xmlfile in /usr/local/lib/python3.12/dist-packages (from openpyxl) (2.0.0)\n",
            "Requirement already satisfied: six>=1.5 in /usr/local/lib/python3.12/dist-packages (from python-dateutil>=2.8.2->pandas) (1.17.0)\n"
          ]
        }
      ]
    },
    {
      "cell_type": "code",
      "source": [
        "import pandas as pd\n",
        "import numpy as np\n",
        "import matplotlib.pyplot as plt\n",
        "import seaborn as sns"
      ],
      "metadata": {
        "id": "HJhznAmZ2zmx"
      },
      "execution_count": 4,
      "outputs": []
    },
    {
      "cell_type": "code",
      "source": [
        "df = pd.read_csv(\"https://archive.ics.uci.edu/static/public/352/data.csv\", encoding='unicode_escape')\n",
        "print(df.columns)"
      ],
      "metadata": {
        "colab": {
          "base_uri": "https://localhost:8080/"
        },
        "id": "V2iyYcoq24KR",
        "outputId": "1fbeb69c-2086-46f4-fe08-1cfe0e3cad03"
      },
      "execution_count": 5,
      "outputs": [
        {
          "output_type": "stream",
          "name": "stdout",
          "text": [
            "Index(['InvoiceNo', 'StockCode', 'Description', 'Quantity', 'InvoiceDate',\n",
            "       'UnitPrice', 'CustomerID', 'Country'],\n",
            "      dtype='object')\n"
          ]
        }
      ]
    },
    {
      "cell_type": "code",
      "source": [
        "\n",
        "print(df.shape)\n",
        "print(df.head())"
      ],
      "metadata": {
        "colab": {
          "base_uri": "https://localhost:8080/"
        },
        "id": "l1Ic0KcK4RCh",
        "outputId": "0ffe9a73-1961-452b-cbc0-bc9f5c796fc1"
      },
      "execution_count": 13,
      "outputs": [
        {
          "output_type": "stream",
          "name": "stdout",
          "text": [
            "(541909, 8)\n",
            "  InvoiceNo StockCode                          Description  Quantity  \\\n",
            "0    536365    85123A   WHITE HANGING HEART T-LIGHT HOLDER         6   \n",
            "1    536365     71053                  WHITE METAL LANTERN         6   \n",
            "2    536365    84406B       CREAM CUPID HEARTS COAT HANGER         8   \n",
            "3    536365    84029G  KNITTED UNION FLAG HOT WATER BOTTLE         6   \n",
            "4    536365    84029E       RED WOOLLY HOTTIE WHITE HEART.         6   \n",
            "\n",
            "      InvoiceDate  UnitPrice  CustomerID         Country  \n",
            "0  12/1/2010 8:26       2.55     17850.0  United Kingdom  \n",
            "1  12/1/2010 8:26       3.39     17850.0  United Kingdom  \n",
            "2  12/1/2010 8:26       2.75     17850.0  United Kingdom  \n",
            "3  12/1/2010 8:26       3.39     17850.0  United Kingdom  \n",
            "4  12/1/2010 8:26       3.39     17850.0  United Kingdom  \n"
          ]
        }
      ]
    },
    {
      "cell_type": "code",
      "source": [
        "print(df.columns.tolist())\n"
      ],
      "metadata": {
        "colab": {
          "base_uri": "https://localhost:8080/"
        },
        "id": "14UbTmWS5cH0",
        "outputId": "ab0f813a-4205-439d-a658-4b7b8f776c81"
      },
      "execution_count": 14,
      "outputs": [
        {
          "output_type": "stream",
          "name": "stdout",
          "text": [
            "['InvoiceNo', 'StockCode', 'Description', 'Quantity', 'InvoiceDate', 'UnitPrice', 'CustomerID', 'Country']\n"
          ]
        }
      ]
    },
    {
      "cell_type": "code",
      "source": [
        "#Drop rows where any key business attribute is missing\n",
        "df_clean = df.dropna(subset=['InvoiceNo', 'StockCode', 'Description', 'Quantity', 'InvoiceDate', 'UnitPrice', 'CustomerID', 'Country'])\n"
      ],
      "metadata": {
        "id": "2qBb7OZA7Jq0"
      },
      "execution_count": 16,
      "outputs": []
    },
    {
      "cell_type": "code",
      "source": [
        "print(df_clean['InvoiceDate'].dtype)"
      ],
      "metadata": {
        "colab": {
          "base_uri": "https://localhost:8080/"
        },
        "id": "d71f_pmF7VuR",
        "outputId": "6d868b2e-29f1-4542-e6a5-5ac675e7da8e"
      },
      "execution_count": 18,
      "outputs": [
        {
          "output_type": "stream",
          "name": "stdout",
          "text": [
            "object\n"
          ]
        }
      ]
    },
    {
      "cell_type": "code",
      "source": [
        "#Convert InvoiceDate to datetime type\n",
        "df_clean['InvoiceDate'] = pd.to_datetime(df_clean['InvoiceDate'], errors='coerce')"
      ],
      "metadata": {
        "colab": {
          "base_uri": "https://localhost:8080/"
        },
        "id": "OBfkgTlC75AY",
        "outputId": "c23536a5-4860-4f59-9d55-cd9c4dab9717"
      },
      "execution_count": 19,
      "outputs": [
        {
          "output_type": "stream",
          "name": "stderr",
          "text": [
            "/tmp/ipython-input-1746825974.py:2: SettingWithCopyWarning: \n",
            "A value is trying to be set on a copy of a slice from a DataFrame.\n",
            "Try using .loc[row_indexer,col_indexer] = value instead\n",
            "\n",
            "See the caveats in the documentation: https://pandas.pydata.org/pandas-docs/stable/user_guide/indexing.html#returning-a-view-versus-a-copy\n",
            "  df_clean['InvoiceDate'] = pd.to_datetime(df_clean['InvoiceDate'], errors='coerce')\n"
          ]
        }
      ]
    },
    {
      "cell_type": "code",
      "source": [
        "print(df_clean['InvoiceDate'].dtype)"
      ],
      "metadata": {
        "colab": {
          "base_uri": "https://localhost:8080/"
        },
        "id": "qPi6qS627-7q",
        "outputId": "8a07d067-f210-498b-c499-781d5bcf479f"
      },
      "execution_count": 20,
      "outputs": [
        {
          "output_type": "stream",
          "name": "stdout",
          "text": [
            "datetime64[ns]\n"
          ]
        }
      ]
    },
    {
      "cell_type": "code",
      "source": [
        "# Filter invalid transactions\n",
        "df_clean = df_clean[\n",
        "    (~df_clean['InvoiceNo'].str.startswith('C')) & (df_clean['Quantity'] > 0) & (df_clean['UnitPrice'] > 0)\n",
        "]"
      ],
      "metadata": {
        "id": "8XvRsz3u8I-T"
      },
      "execution_count": 21,
      "outputs": []
    },
    {
      "cell_type": "code",
      "source": [
        "#Reset index for clean iteration\n",
        "df_clean = df_clean.reset_index(drop=True)"
      ],
      "metadata": {
        "id": "HEFk22nE8y0b"
      },
      "execution_count": 22,
      "outputs": []
    },
    {
      "cell_type": "code",
      "source": [
        "#After cleaning\n",
        "print(\"Shape:\", df_clean.shape)\n",
        "print(\"Columns:\", df_clean.columns.tolist())\n",
        "df_clean.info()\n",
        "df_clean.describe()\n",
        "print(df.head(5))"
      ],
      "metadata": {
        "colab": {
          "base_uri": "https://localhost:8080/"
        },
        "id": "kA1iEv-d8_ry",
        "outputId": "5e06ddac-f778-4ca9-9b93-7ea5d261e9f4"
      },
      "execution_count": 23,
      "outputs": [
        {
          "output_type": "stream",
          "name": "stdout",
          "text": [
            "Shape: (397884, 8)\n",
            "Columns: ['InvoiceNo', 'StockCode', 'Description', 'Quantity', 'InvoiceDate', 'UnitPrice', 'CustomerID', 'Country']\n",
            "<class 'pandas.core.frame.DataFrame'>\n",
            "RangeIndex: 397884 entries, 0 to 397883\n",
            "Data columns (total 8 columns):\n",
            " #   Column       Non-Null Count   Dtype         \n",
            "---  ------       --------------   -----         \n",
            " 0   InvoiceNo    397884 non-null  object        \n",
            " 1   StockCode    397884 non-null  object        \n",
            " 2   Description  397884 non-null  object        \n",
            " 3   Quantity     397884 non-null  int64         \n",
            " 4   InvoiceDate  397884 non-null  datetime64[ns]\n",
            " 5   UnitPrice    397884 non-null  float64       \n",
            " 6   CustomerID   397884 non-null  float64       \n",
            " 7   Country      397884 non-null  object        \n",
            "dtypes: datetime64[ns](1), float64(2), int64(1), object(4)\n",
            "memory usage: 24.3+ MB\n",
            "  InvoiceNo StockCode                          Description  Quantity  \\\n",
            "0    536365    85123A   WHITE HANGING HEART T-LIGHT HOLDER         6   \n",
            "1    536365     71053                  WHITE METAL LANTERN         6   \n",
            "2    536365    84406B       CREAM CUPID HEARTS COAT HANGER         8   \n",
            "3    536365    84029G  KNITTED UNION FLAG HOT WATER BOTTLE         6   \n",
            "4    536365    84029E       RED WOOLLY HOTTIE WHITE HEART.         6   \n",
            "\n",
            "      InvoiceDate  UnitPrice  CustomerID         Country  \n",
            "0  12/1/2010 8:26       2.55     17850.0  United Kingdom  \n",
            "1  12/1/2010 8:26       3.39     17850.0  United Kingdom  \n",
            "2  12/1/2010 8:26       2.75     17850.0  United Kingdom  \n",
            "3  12/1/2010 8:26       3.39     17850.0  United Kingdom  \n",
            "4  12/1/2010 8:26       3.39     17850.0  United Kingdom  \n"
          ]
        }
      ]
    },
    {
      "cell_type": "code",
      "source": [
        "basket_df = df_clean[['InvoiceNo', 'StockCode', 'Quantity']].copy()\n",
        "basket_df = basket_df[basket_df['Quantity'] > 0]\n",
        "basket_df['Quantity'] = 1"
      ],
      "metadata": {
        "id": "oyTT-H0hnY7G"
      },
      "execution_count": 25,
      "outputs": []
    },
    {
      "cell_type": "code",
      "source": [
        "item_matrix = basket_df.pivot_table(\n",
        "    index='InvoiceNo',\n",
        "    columns='StockCode',\n",
        "    values='Quantity',\n",
        "    aggfunc='sum',\n",
        "    fill_value=0\n",
        ")\n",
        "item_matrix = (item_matrix > 0).astype(int)\n",
        "print(item_matrix.shape)\n",
        "print(item_matrix.head(15))"
      ],
      "metadata": {
        "colab": {
          "base_uri": "https://localhost:8080/"
        },
        "id": "tkDU9Ru7rwA5",
        "outputId": "7718ab74-b344-4177-a20c-e548fab672d3"
      },
      "execution_count": 34,
      "outputs": [
        {
          "output_type": "stream",
          "name": "stdout",
          "text": [
            "(18532, 3665)\n",
            "StockCode  10002  10080  10120  10123C  10124A  10124G  10125  10133  10135  \\\n",
            "InvoiceNo                                                                     \n",
            "536365         0      0      0       0       0       0      0      0      0   \n",
            "536366         0      0      0       0       0       0      0      0      0   \n",
            "536367         0      0      0       0       0       0      0      0      0   \n",
            "536368         0      0      0       0       0       0      0      0      0   \n",
            "536369         0      0      0       0       0       0      0      0      0   \n",
            "536370         1      0      0       0       0       0      0      0      0   \n",
            "536371         0      0      0       0       0       0      0      0      0   \n",
            "536372         0      0      0       0       0       0      0      0      0   \n",
            "536373         0      0      0       0       0       0      0      0      0   \n",
            "536374         0      0      0       0       0       0      0      0      0   \n",
            "536375         0      0      0       0       0       0      0      0      0   \n",
            "536376         0      0      0       0       0       0      0      0      0   \n",
            "536377         0      0      0       0       0       0      0      0      0   \n",
            "536378         0      0      0       0       0       0      0      0      0   \n",
            "536380         0      0      0       0       0       0      0      0      0   \n",
            "\n",
            "StockCode  11001  ...  90214V  90214W  90214Y  90214Z  BANK CHARGES  C2  DOT  \\\n",
            "InvoiceNo         ...                                                          \n",
            "536365         0  ...       0       0       0       0             0   0    0   \n",
            "536366         0  ...       0       0       0       0             0   0    0   \n",
            "536367         0  ...       0       0       0       0             0   0    0   \n",
            "536368         0  ...       0       0       0       0             0   0    0   \n",
            "536369         0  ...       0       0       0       0             0   0    0   \n",
            "536370         0  ...       0       0       0       0             0   0    0   \n",
            "536371         0  ...       0       0       0       0             0   0    0   \n",
            "536372         0  ...       0       0       0       0             0   0    0   \n",
            "536373         0  ...       0       0       0       0             0   0    0   \n",
            "536374         0  ...       0       0       0       0             0   0    0   \n",
            "536375         0  ...       0       0       0       0             0   0    0   \n",
            "536376         0  ...       0       0       0       0             0   0    0   \n",
            "536377         0  ...       0       0       0       0             0   0    0   \n",
            "536378         0  ...       0       0       0       0             0   0    0   \n",
            "536380         0  ...       0       0       0       0             0   0    0   \n",
            "\n",
            "StockCode  M  PADS  POST  \n",
            "InvoiceNo                 \n",
            "536365     0     0     0  \n",
            "536366     0     0     0  \n",
            "536367     0     0     0  \n",
            "536368     0     0     0  \n",
            "536369     0     0     0  \n",
            "536370     0     0     1  \n",
            "536371     0     0     0  \n",
            "536372     0     0     0  \n",
            "536373     0     0     0  \n",
            "536374     0     0     0  \n",
            "536375     0     0     0  \n",
            "536376     0     0     0  \n",
            "536377     0     0     0  \n",
            "536378     0     0     0  \n",
            "536380     0     0     0  \n",
            "\n",
            "[15 rows x 3665 columns]\n"
          ]
        }
      ]
    },
    {
      "cell_type": "code",
      "source": [
        "print(item_matrix.loc[\"536365\"][\"85123A\"])"
      ],
      "metadata": {
        "colab": {
          "base_uri": "https://localhost:8080/"
        },
        "id": "MxwS4I25r_jC",
        "outputId": "24d9680b-3eaa-4961-bdd6-04af9fbc912e"
      },
      "execution_count": 33,
      "outputs": [
        {
          "output_type": "stream",
          "name": "stdout",
          "text": [
            "1\n"
          ]
        }
      ]
    }
  ]
}