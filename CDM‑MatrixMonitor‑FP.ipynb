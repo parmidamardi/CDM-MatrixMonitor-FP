{
  "nbformat": 4,
  "nbformat_minor": 0,
  "metadata": {
    "colab": {
      "provenance": [],
      "authorship_tag": "ABX9TyOpjX61lvbIfz7pymY7mh72",
      "include_colab_link": true
    },
    "kernelspec": {
      "name": "python3",
      "display_name": "Python 3"
    },
    "language_info": {
      "name": "python"
    }
  },
  "cells": [
    {
      "cell_type": "markdown",
      "metadata": {
        "id": "view-in-github",
        "colab_type": "text"
      },
      "source": [
        "<a href=\"https://colab.research.google.com/github/parmidamardi/CDM-MatrixMonitor-FP/blob/main/CDM%E2%80%91MatrixMonitor%E2%80%91FP.ipynb\" target=\"_parent\"><img src=\"https://colab.research.google.com/assets/colab-badge.svg\" alt=\"Open In Colab\"/></a>"
      ]
    },
    {
      "cell_type": "code",
      "source": [
        "!pip install pandas numpy matplotlib seaborn openpyxl"
      ],
      "metadata": {
        "colab": {
          "base_uri": "https://localhost:8080/"
        },
        "id": "4Vi-3-552TwK",
        "outputId": "57a726fa-46a2-4327-fadd-5b85e5ff5c66"
      },
      "execution_count": 1,
      "outputs": [
        {
          "output_type": "stream",
          "name": "stdout",
          "text": [
            "Requirement already satisfied: pandas in /usr/local/lib/python3.12/dist-packages (2.2.2)\n",
            "Requirement already satisfied: numpy in /usr/local/lib/python3.12/dist-packages (2.0.2)\n",
            "Requirement already satisfied: matplotlib in /usr/local/lib/python3.12/dist-packages (3.10.0)\n",
            "Requirement already satisfied: seaborn in /usr/local/lib/python3.12/dist-packages (0.13.2)\n",
            "Requirement already satisfied: openpyxl in /usr/local/lib/python3.12/dist-packages (3.1.5)\n",
            "Requirement already satisfied: python-dateutil>=2.8.2 in /usr/local/lib/python3.12/dist-packages (from pandas) (2.9.0.post0)\n",
            "Requirement already satisfied: pytz>=2020.1 in /usr/local/lib/python3.12/dist-packages (from pandas) (2025.2)\n",
            "Requirement already satisfied: tzdata>=2022.7 in /usr/local/lib/python3.12/dist-packages (from pandas) (2025.2)\n",
            "Requirement already satisfied: contourpy>=1.0.1 in /usr/local/lib/python3.12/dist-packages (from matplotlib) (1.3.3)\n",
            "Requirement already satisfied: cycler>=0.10 in /usr/local/lib/python3.12/dist-packages (from matplotlib) (0.12.1)\n",
            "Requirement already satisfied: fonttools>=4.22.0 in /usr/local/lib/python3.12/dist-packages (from matplotlib) (4.60.1)\n",
            "Requirement already satisfied: kiwisolver>=1.3.1 in /usr/local/lib/python3.12/dist-packages (from matplotlib) (1.4.9)\n",
            "Requirement already satisfied: packaging>=20.0 in /usr/local/lib/python3.12/dist-packages (from matplotlib) (25.0)\n",
            "Requirement already satisfied: pillow>=8 in /usr/local/lib/python3.12/dist-packages (from matplotlib) (11.3.0)\n",
            "Requirement already satisfied: pyparsing>=2.3.1 in /usr/local/lib/python3.12/dist-packages (from matplotlib) (3.2.5)\n",
            "Requirement already satisfied: et-xmlfile in /usr/local/lib/python3.12/dist-packages (from openpyxl) (2.0.0)\n",
            "Requirement already satisfied: six>=1.5 in /usr/local/lib/python3.12/dist-packages (from python-dateutil>=2.8.2->pandas) (1.17.0)\n"
          ]
        }
      ]
    },
    {
      "cell_type": "code",
      "source": [
        "import pandas as pd\n",
        "import numpy as np\n",
        "import matplotlib.pyplot as plt\n",
        "import seaborn as sns"
      ],
      "metadata": {
        "id": "HJhznAmZ2zmx"
      },
      "execution_count": 2,
      "outputs": []
    },
    {
      "cell_type": "code",
      "source": [
        "# url = \"https://raw.githubusercontent.com/parmidamardi/CDM-MatrixMonitor-FP/main/Online%20Retail.xlsx\"\n",
        "# df_2 = pd.read_excel(url, engine='openpyxl')\n",
        "# print(df_2.columns)"
      ],
      "metadata": {
        "id": "ynpWStq2pa-G"
      },
      "execution_count": null,
      "outputs": []
    },
    {
      "cell_type": "code",
      "source": [
        "df = pd.read_csv(\"https://archive.ics.uci.edu/static/public/352/data.csv\", encoding='unicode_escape')\n",
        "print(df.columns)"
      ],
      "metadata": {
        "colab": {
          "base_uri": "https://localhost:8080/"
        },
        "id": "V2iyYcoq24KR",
        "outputId": "0961a3ce-bade-43d9-ca9a-cfb63dcabe98"
      },
      "execution_count": 3,
      "outputs": [
        {
          "output_type": "stream",
          "name": "stdout",
          "text": [
            "Index(['InvoiceNo', 'StockCode', 'Description', 'Quantity', 'InvoiceDate',\n",
            "       'UnitPrice', 'CustomerID', 'Country'],\n",
            "      dtype='object')\n"
          ]
        }
      ]
    },
    {
      "cell_type": "code",
      "source": [
        "\n",
        "print(df.shape)\n",
        "print(df.head())"
      ],
      "metadata": {
        "colab": {
          "base_uri": "https://localhost:8080/"
        },
        "id": "l1Ic0KcK4RCh",
        "outputId": "6b6b5eb9-7db1-42db-d989-cce354662061"
      },
      "execution_count": 4,
      "outputs": [
        {
          "output_type": "stream",
          "name": "stdout",
          "text": [
            "(541909, 8)\n",
            "  InvoiceNo StockCode                          Description  Quantity  \\\n",
            "0    536365    85123A   WHITE HANGING HEART T-LIGHT HOLDER         6   \n",
            "1    536365     71053                  WHITE METAL LANTERN         6   \n",
            "2    536365    84406B       CREAM CUPID HEARTS COAT HANGER         8   \n",
            "3    536365    84029G  KNITTED UNION FLAG HOT WATER BOTTLE         6   \n",
            "4    536365    84029E       RED WOOLLY HOTTIE WHITE HEART.         6   \n",
            "\n",
            "      InvoiceDate  UnitPrice  CustomerID         Country  \n",
            "0  12/1/2010 8:26       2.55     17850.0  United Kingdom  \n",
            "1  12/1/2010 8:26       3.39     17850.0  United Kingdom  \n",
            "2  12/1/2010 8:26       2.75     17850.0  United Kingdom  \n",
            "3  12/1/2010 8:26       3.39     17850.0  United Kingdom  \n",
            "4  12/1/2010 8:26       3.39     17850.0  United Kingdom  \n"
          ]
        }
      ]
    },
    {
      "cell_type": "code",
      "source": [
        "print(df.columns.tolist())\n"
      ],
      "metadata": {
        "colab": {
          "base_uri": "https://localhost:8080/"
        },
        "id": "14UbTmWS5cH0",
        "outputId": "7366b971-afa9-4b38-a043-f047ebdf5c09"
      },
      "execution_count": 5,
      "outputs": [
        {
          "output_type": "stream",
          "name": "stdout",
          "text": [
            "['InvoiceNo', 'StockCode', 'Description', 'Quantity', 'InvoiceDate', 'UnitPrice', 'CustomerID', 'Country']\n"
          ]
        }
      ]
    },
    {
      "cell_type": "code",
      "source": [
        "#Drop rows where any key business attribute is missing\n",
        "df_clean = df.dropna(subset=['InvoiceNo', 'StockCode', 'Description', 'Quantity', 'InvoiceDate', 'UnitPrice', 'CustomerID', 'Country'])\n"
      ],
      "metadata": {
        "id": "2qBb7OZA7Jq0"
      },
      "execution_count": 6,
      "outputs": []
    },
    {
      "cell_type": "code",
      "source": [
        "print(df_clean['InvoiceDate'].dtype)"
      ],
      "metadata": {
        "colab": {
          "base_uri": "https://localhost:8080/"
        },
        "id": "d71f_pmF7VuR",
        "outputId": "247632c5-7f07-4e01-d673-cbed070c1642"
      },
      "execution_count": 7,
      "outputs": [
        {
          "output_type": "stream",
          "name": "stdout",
          "text": [
            "object\n"
          ]
        }
      ]
    },
    {
      "cell_type": "code",
      "source": [
        "#Convert InvoiceDate to datetime type\n",
        "df_clean['InvoiceDate'] = pd.to_datetime(df_clean['InvoiceDate'], errors='coerce')"
      ],
      "metadata": {
        "colab": {
          "base_uri": "https://localhost:8080/"
        },
        "id": "OBfkgTlC75AY",
        "outputId": "7207cf29-a544-4637-dffd-984ca3778bb4"
      },
      "execution_count": 8,
      "outputs": [
        {
          "output_type": "stream",
          "name": "stderr",
          "text": [
            "/tmp/ipython-input-1746825974.py:2: SettingWithCopyWarning: \n",
            "A value is trying to be set on a copy of a slice from a DataFrame.\n",
            "Try using .loc[row_indexer,col_indexer] = value instead\n",
            "\n",
            "See the caveats in the documentation: https://pandas.pydata.org/pandas-docs/stable/user_guide/indexing.html#returning-a-view-versus-a-copy\n",
            "  df_clean['InvoiceDate'] = pd.to_datetime(df_clean['InvoiceDate'], errors='coerce')\n"
          ]
        }
      ]
    },
    {
      "cell_type": "code",
      "source": [
        "print(df_clean['InvoiceDate'].dtype)"
      ],
      "metadata": {
        "colab": {
          "base_uri": "https://localhost:8080/"
        },
        "id": "qPi6qS627-7q",
        "outputId": "c5ac6894-c922-4725-90a8-9b360823ff88"
      },
      "execution_count": 9,
      "outputs": [
        {
          "output_type": "stream",
          "name": "stdout",
          "text": [
            "datetime64[ns]\n"
          ]
        }
      ]
    },
    {
      "cell_type": "code",
      "source": [
        "# Filter invalid transactions\n",
        "df_clean = df_clean[\n",
        "    (~df_clean['InvoiceNo'].str.startswith('C')) & (df_clean['Quantity'] > 0) & (df_clean['UnitPrice'] > 0)\n",
        "]"
      ],
      "metadata": {
        "id": "8XvRsz3u8I-T"
      },
      "execution_count": 10,
      "outputs": []
    },
    {
      "cell_type": "code",
      "source": [
        "#Reset index for clean iteration\n",
        "df_clean = df_clean.reset_index(drop=True)"
      ],
      "metadata": {
        "id": "HEFk22nE8y0b"
      },
      "execution_count": 11,
      "outputs": []
    },
    {
      "cell_type": "code",
      "source": [
        "#After cleaning\n",
        "print(\"Shape:\", df_clean.shape)\n",
        "print(\"Columns:\", df_clean.columns.tolist())\n",
        "df_clean.info()\n",
        "df_clean.describe()\n",
        "print(df.head(5))"
      ],
      "metadata": {
        "colab": {
          "base_uri": "https://localhost:8080/"
        },
        "id": "kA1iEv-d8_ry",
        "outputId": "c5f01d48-1ba4-4827-dff2-3ca55fc3d7fe"
      },
      "execution_count": 12,
      "outputs": [
        {
          "output_type": "stream",
          "name": "stdout",
          "text": [
            "Shape: (397884, 8)\n",
            "Columns: ['InvoiceNo', 'StockCode', 'Description', 'Quantity', 'InvoiceDate', 'UnitPrice', 'CustomerID', 'Country']\n",
            "<class 'pandas.core.frame.DataFrame'>\n",
            "RangeIndex: 397884 entries, 0 to 397883\n",
            "Data columns (total 8 columns):\n",
            " #   Column       Non-Null Count   Dtype         \n",
            "---  ------       --------------   -----         \n",
            " 0   InvoiceNo    397884 non-null  object        \n",
            " 1   StockCode    397884 non-null  object        \n",
            " 2   Description  397884 non-null  object        \n",
            " 3   Quantity     397884 non-null  int64         \n",
            " 4   InvoiceDate  397884 non-null  datetime64[ns]\n",
            " 5   UnitPrice    397884 non-null  float64       \n",
            " 6   CustomerID   397884 non-null  float64       \n",
            " 7   Country      397884 non-null  object        \n",
            "dtypes: datetime64[ns](1), float64(2), int64(1), object(4)\n",
            "memory usage: 24.3+ MB\n",
            "  InvoiceNo StockCode                          Description  Quantity  \\\n",
            "0    536365    85123A   WHITE HANGING HEART T-LIGHT HOLDER         6   \n",
            "1    536365     71053                  WHITE METAL LANTERN         6   \n",
            "2    536365    84406B       CREAM CUPID HEARTS COAT HANGER         8   \n",
            "3    536365    84029G  KNITTED UNION FLAG HOT WATER BOTTLE         6   \n",
            "4    536365    84029E       RED WOOLLY HOTTIE WHITE HEART.         6   \n",
            "\n",
            "      InvoiceDate  UnitPrice  CustomerID         Country  \n",
            "0  12/1/2010 8:26       2.55     17850.0  United Kingdom  \n",
            "1  12/1/2010 8:26       3.39     17850.0  United Kingdom  \n",
            "2  12/1/2010 8:26       2.75     17850.0  United Kingdom  \n",
            "3  12/1/2010 8:26       3.39     17850.0  United Kingdom  \n",
            "4  12/1/2010 8:26       3.39     17850.0  United Kingdom  \n"
          ]
        }
      ]
    },
    {
      "cell_type": "code",
      "source": [
        "basket_df = df_clean[['InvoiceNo', 'StockCode', 'Quantity']].copy()\n",
        "basket_df = basket_df[basket_df['Quantity'] > 0]\n",
        "basket_df['Quantity'] = 1"
      ],
      "metadata": {
        "id": "oyTT-H0hnY7G"
      },
      "execution_count": 13,
      "outputs": []
    },
    {
      "cell_type": "code",
      "source": [
        "item_matrix = basket_df.pivot_table(\n",
        "    index='InvoiceNo',\n",
        "    columns='StockCode',\n",
        "    values='Quantity',\n",
        "    aggfunc='sum',\n",
        "    fill_value=0\n",
        ")\n",
        "item_matrix = (item_matrix > 0).astype(int)\n",
        "print(item_matrix.shape)\n",
        "print(item_matrix.head(15))"
      ],
      "metadata": {
        "colab": {
          "base_uri": "https://localhost:8080/"
        },
        "id": "tkDU9Ru7rwA5",
        "outputId": "cbfdd07b-47e3-4524-ada2-d0069ce4443a"
      },
      "execution_count": 14,
      "outputs": [
        {
          "output_type": "stream",
          "name": "stdout",
          "text": [
            "(18532, 3665)\n",
            "StockCode  10002  10080  10120  10123C  10124A  10124G  10125  10133  10135  \\\n",
            "InvoiceNo                                                                     \n",
            "536365         0      0      0       0       0       0      0      0      0   \n",
            "536366         0      0      0       0       0       0      0      0      0   \n",
            "536367         0      0      0       0       0       0      0      0      0   \n",
            "536368         0      0      0       0       0       0      0      0      0   \n",
            "536369         0      0      0       0       0       0      0      0      0   \n",
            "536370         1      0      0       0       0       0      0      0      0   \n",
            "536371         0      0      0       0       0       0      0      0      0   \n",
            "536372         0      0      0       0       0       0      0      0      0   \n",
            "536373         0      0      0       0       0       0      0      0      0   \n",
            "536374         0      0      0       0       0       0      0      0      0   \n",
            "536375         0      0      0       0       0       0      0      0      0   \n",
            "536376         0      0      0       0       0       0      0      0      0   \n",
            "536377         0      0      0       0       0       0      0      0      0   \n",
            "536378         0      0      0       0       0       0      0      0      0   \n",
            "536380         0      0      0       0       0       0      0      0      0   \n",
            "\n",
            "StockCode  11001  ...  90214V  90214W  90214Y  90214Z  BANK CHARGES  C2  DOT  \\\n",
            "InvoiceNo         ...                                                          \n",
            "536365         0  ...       0       0       0       0             0   0    0   \n",
            "536366         0  ...       0       0       0       0             0   0    0   \n",
            "536367         0  ...       0       0       0       0             0   0    0   \n",
            "536368         0  ...       0       0       0       0             0   0    0   \n",
            "536369         0  ...       0       0       0       0             0   0    0   \n",
            "536370         0  ...       0       0       0       0             0   0    0   \n",
            "536371         0  ...       0       0       0       0             0   0    0   \n",
            "536372         0  ...       0       0       0       0             0   0    0   \n",
            "536373         0  ...       0       0       0       0             0   0    0   \n",
            "536374         0  ...       0       0       0       0             0   0    0   \n",
            "536375         0  ...       0       0       0       0             0   0    0   \n",
            "536376         0  ...       0       0       0       0             0   0    0   \n",
            "536377         0  ...       0       0       0       0             0   0    0   \n",
            "536378         0  ...       0       0       0       0             0   0    0   \n",
            "536380         0  ...       0       0       0       0             0   0    0   \n",
            "\n",
            "StockCode  M  PADS  POST  \n",
            "InvoiceNo                 \n",
            "536365     0     0     0  \n",
            "536366     0     0     0  \n",
            "536367     0     0     0  \n",
            "536368     0     0     0  \n",
            "536369     0     0     0  \n",
            "536370     0     0     1  \n",
            "536371     0     0     0  \n",
            "536372     0     0     0  \n",
            "536373     0     0     0  \n",
            "536374     0     0     0  \n",
            "536375     0     0     0  \n",
            "536376     0     0     0  \n",
            "536377     0     0     0  \n",
            "536378     0     0     0  \n",
            "536380     0     0     0  \n",
            "\n",
            "[15 rows x 3665 columns]\n"
          ]
        }
      ]
    },
    {
      "cell_type": "code",
      "source": [
        "print(item_matrix.loc[\"536365\"][\"85123A\"])"
      ],
      "metadata": {
        "colab": {
          "base_uri": "https://localhost:8080/"
        },
        "id": "MxwS4I25r_jC",
        "outputId": "59f511a8-1348-4065-84ab-eea32889b61b"
      },
      "execution_count": 15,
      "outputs": [
        {
          "output_type": "stream",
          "name": "stdout",
          "text": [
            "1\n"
          ]
        }
      ]
    },
    {
      "cell_type": "code",
      "source": [
        "df_clean['InvoiceDate'] = pd.to_datetime(df_clean['InvoiceDate'], errors='coerce')\n",
        "df_clean = df_clean.sort_values('InvoiceDate').reset_index(drop=True)"
      ],
      "metadata": {
        "id": "alDFtyEm52xg"
      },
      "execution_count": 16,
      "outputs": []
    },
    {
      "cell_type": "code",
      "source": [
        "df_clean['InvoiceDay'] = df_clean['InvoiceDate'].dt.date\n",
        "print(df_clean[['InvoiceNo', 'InvoiceDate', 'InvoiceDay']].head(5))"
      ],
      "metadata": {
        "colab": {
          "base_uri": "https://localhost:8080/"
        },
        "id": "4mhLjXsf58qZ",
        "outputId": "23ca7198-d63e-4841-ce1a-f4abeff9e78e"
      },
      "execution_count": 17,
      "outputs": [
        {
          "output_type": "stream",
          "name": "stdout",
          "text": [
            "  InvoiceNo         InvoiceDate  InvoiceDay\n",
            "0    536365 2010-12-01 08:26:00  2010-12-01\n",
            "1    536365 2010-12-01 08:26:00  2010-12-01\n",
            "2    536365 2010-12-01 08:26:00  2010-12-01\n",
            "3    536365 2010-12-01 08:26:00  2010-12-01\n",
            "4    536365 2010-12-01 08:26:00  2010-12-01\n"
          ]
        }
      ]
    },
    {
      "cell_type": "code",
      "source": [
        "time_batches = [group for _, group in df_clean.groupby('InvoiceDay')]\n",
        "\n",
        "print(f\"Total time batches: {len(time_batches)}\")\n",
        "\n",
        "for i, batch in enumerate(time_batches[:3]):\n",
        "    print(f\"Batch {i+1}: {batch['InvoiceDay'].iloc[0]}  ->  {len(batch)} invoices\")"
      ],
      "metadata": {
        "colab": {
          "base_uri": "https://localhost:8080/"
        },
        "id": "UjVvGyea6m_0",
        "outputId": "0e5b7e7d-2624-4b65-ea4e-c53c53230902"
      },
      "execution_count": 18,
      "outputs": [
        {
          "output_type": "stream",
          "name": "stdout",
          "text": [
            "Total time batches: 305\n",
            "Batch 1: 2010-12-01  ->  1942 invoices\n",
            "Batch 2: 2010-12-02  ->  2000 invoices\n",
            "Batch 3: 2010-12-03  ->  1103 invoices\n"
          ]
        }
      ]
    },
    {
      "cell_type": "code",
      "source": [
        "invoice_order = (\n",
        "    df_clean[['InvoiceNo', 'InvoiceDay']]\n",
        "    .drop_duplicates()\n",
        "    .sort_values('InvoiceDay')\n",
        ")\n",
        "ordered_invoices = invoice_order['InvoiceNo'].tolist()\n",
        "item_matrix = item_matrix.loc[ordered_invoices]"
      ],
      "metadata": {
        "id": "eNkMbNwa6-fW"
      },
      "execution_count": 19,
      "outputs": []
    },
    {
      "cell_type": "code",
      "source": [
        "day_to_invoices = {\n",
        "    d: g['InvoiceNo'].unique().tolist()\n",
        "    for d, g in df_clean.groupby('InvoiceDay')\n",
        "}\n",
        "\n",
        "stream_batches = [item_matrix.loc[day_to_invoices[d]] for d in day_to_invoices]\n",
        "\n",
        "print(f\"Total batches (days): {len(stream_batches)}\")\n",
        "print(f\"Example batch shape: {stream_batches[0].shape}\")"
      ],
      "metadata": {
        "colab": {
          "base_uri": "https://localhost:8080/"
        },
        "id": "8ACfxoKE7Mhc",
        "outputId": "5b42c749-6603-4bd5-dba3-b81669071872"
      },
      "execution_count": 20,
      "outputs": [
        {
          "output_type": "stream",
          "name": "stdout",
          "text": [
            "Total batches (days): 305\n",
            "Example batch shape: (121, 3665)\n"
          ]
        }
      ]
    },
    {
      "cell_type": "code",
      "source": [
        "def gaussian_random_projection_sketch(A, k=50):\n",
        "    n, d = A.shape\n",
        "    R = np.random.normal(0, 1/np.sqrt(k), size=(d, k))\n",
        "    B = A @ R\n",
        "    return B"
      ],
      "metadata": {
        "id": "1RIwbcWva47J"
      },
      "execution_count": 22,
      "outputs": []
    },
    {
      "cell_type": "code",
      "source": [
        "def incremental_pca_sketch(A, k=50):\n",
        "    A_centered = A - np.mean(A, axis=0)\n",
        "    U, S, Vt = np.linalg.svd(A_centered, full_matrices=False)\n",
        "    B = (U[:, :k] * S[:k]) @ Vt[:k, :]\n",
        "    return B, Vt[:k, :]"
      ],
      "metadata": {
        "id": "gk9phiTFeYV1"
      },
      "execution_count": 23,
      "outputs": []
    },
    {
      "cell_type": "code",
      "source": [
        "def frequent_directions_sketch(A, l=50, B=None):\n",
        "    if B is None:\n",
        "        B = np.zeros((0, A.shape[1]))\n",
        "    B = np.vstack((B, A))\n",
        "    if B.shape[0] > l:\n",
        "        U, S, Vt = np.linalg.svd(B, full_matrices=False)\n",
        "        delta = S[l//2]**2\n",
        "        S = np.sqrt(np.maximum(S**2 - delta, 0))\n",
        "        B = np.diag(S) @ Vt\n",
        "        B = B[:l, :]\n",
        "    return B"
      ],
      "metadata": {
        "id": "I9qKC0f1efFc"
      },
      "execution_count": 24,
      "outputs": []
    },
    {
      "cell_type": "code",
      "source": [
        "def frobenius_error(A, B):\n",
        "    try:\n",
        "        ATA = A @ A.T\n",
        "        BTB = B @ B.T\n",
        "        if ATA.shape != BTB.shape:\n",
        "            ATA = A.T @ A\n",
        "            BTB = B.T @ B\n",
        "        return np.linalg.norm(ATA - BTB, 'fro') / np.linalg.norm(ATA, 'fro')\n",
        "    except ValueError:\n",
        "        ATA = A.T @ A\n",
        "        BTB = B.T @ B\n",
        "        return np.linalg.norm(ATA - BTB, 'fro') / np.linalg.norm(ATA, 'fro')\n",
        "\n",
        "def variance_retained(A, B):\n",
        "    return np.linalg.norm(B, 'fro')**2 / np.linalg.norm(A, 'fro')**2"
      ],
      "metadata": {
        "id": "oCk2JwYoe7nE"
      },
      "execution_count": 30,
      "outputs": []
    },
    {
      "cell_type": "code",
      "source": [
        "def reconstruction_error(A, B, method=None, components=None):\n",
        "\n",
        "    if method == 'GRP':\n",
        "        A_hat = B @ B.T @ A\n",
        "    elif method == 'IPCA':\n",
        "        if components is not None:\n",
        "            A_centered = A - np.mean(A, axis=0)\n",
        "            A_hat = (A_centered @ components.T) @ components + np.mean(A, axis=0)\n",
        "        else:\n",
        "            A_hat = B\n",
        "    elif method == 'FD':\n",
        "        A_hat = A @ (B.T @ B)\n",
        "    else:\n",
        "        A_hat = B\n",
        "\n",
        "    return np.linalg.norm(A - A_hat, 'fro') / np.linalg.norm(A, 'fro')"
      ],
      "metadata": {
        "id": "LHMlDHCMlii2"
      },
      "execution_count": 45,
      "outputs": []
    },
    {
      "cell_type": "code",
      "source": [
        "metrics = {\n",
        "    \"batch\": [], \"algo\": [],\n",
        "    \"fro_err\": [], \"var_ret\": [],\n",
        "    \"recon_err\": []\n",
        "}\n",
        "\n",
        "k = 50\n",
        "B_fd = None\n",
        "V_ipca = None\n",
        "\n",
        "for i, A_batch in enumerate(stream_batches):\n",
        "    A = A_batch.values\n",
        "\n",
        "    # --- GRP ---\n",
        "    B_grp = gaussian_random_projection_sketch(A, k)\n",
        "    metrics[\"batch\"].append(i)\n",
        "    metrics[\"algo\"].append(\"GRP\")\n",
        "    metrics[\"fro_err\"].append(frobenius_error(A, B_grp))\n",
        "    metrics[\"var_ret\"].append(variance_retained(A, B_grp))\n",
        "    metrics[\"recon_err\"].append(reconstruction_error(A, B_grp, method='GRP'))\n",
        "\n",
        "    # --- IPCA ---\n",
        "    # B_ipca, V_ipca = incremental_pca_sketch(A, k)\n",
        "    # metrics[\"batch\"].append(i)\n",
        "    # metrics[\"algo\"].append(\"IPCA\")\n",
        "    # metrics[\"fro_err\"].append(frobenius_error(A, B_ipca))\n",
        "    # metrics[\"var_ret\"].append(variance_retained(A, B_ipca))\n",
        "    # metrics[\"recon_err\"].append(reconstruction_error(A, B_ipca, method='IPCA', components=V_ipca))\n",
        "\n",
        "    # # --- FD ---\n",
        "    # B_fd = frequent_directions_sketch(A, k, B=B_fd)\n",
        "    # metrics[\"batch\"].append(i)\n",
        "    # metrics[\"algo\"].append(\"FD\")\n",
        "    # metrics[\"fro_err\"].append(frobenius_error(A, B_fd))\n",
        "    # metrics[\"var_ret\"].append(variance_retained(A, B_fd))\n",
        "    # metrics[\"recon_err\"].append(reconstruction_error(A, B_fd, method='FD'))"
      ],
      "metadata": {
        "id": "HkbcWOJreiXs"
      },
      "execution_count": 43,
      "outputs": []
    },
    {
      "cell_type": "code",
      "source": [
        "metrics = {\n",
        "    \"batch\": [], \"algo\": [],\n",
        "    \"fro_err\": [], \"var_ret\": [],\n",
        "    \"recon_err\": []\n",
        "}\n",
        "\n",
        "k = 50\n",
        "B_fd = None\n",
        "V_ipca = None\n",
        "\n",
        "for i, A_batch in enumerate(stream_batches):\n",
        "    A = A_batch.values\n",
        "\n",
        "    # --- GRP ---\n",
        "    # B_grp = gaussian_random_projection_sketch(A, k)\n",
        "    # metrics[\"batch\"].append(i)\n",
        "    # metrics[\"algo\"].append(\"GRP\")\n",
        "    # metrics[\"fro_err\"].append(frobenius_error(A, B_grp))\n",
        "    # metrics[\"var_ret\"].append(variance_retained(A, B_grp))\n",
        "    # metrics[\"recon_err\"].append(reconstruction_error(A, B_grp, method='GRP'))\n",
        "\n",
        "    # --- IPCA ---\n",
        "    B_ipca, V_ipca = incremental_pca_sketch(A, k)\n",
        "    metrics[\"batch\"].append(i)\n",
        "    metrics[\"algo\"].append(\"IPCA\")\n",
        "    metrics[\"fro_err\"].append(frobenius_error(A, B_ipca))\n",
        "    metrics[\"var_ret\"].append(variance_retained(A, B_ipca))\n",
        "    metrics[\"recon_err\"].append(reconstruction_error(A, B_ipca, method='IPCA', components=V_ipca))\n",
        "\n",
        "    # # --- FD ---\n",
        "    # B_fd = frequent_directions_sketch(A, k, B=B_fd)\n",
        "    # metrics[\"batch\"].append(i)\n",
        "    # metrics[\"algo\"].append(\"FD\")\n",
        "    # metrics[\"fro_err\"].append(frobenius_error(A, B_fd))\n",
        "    # metrics[\"var_ret\"].append(variance_retained(A, B_fd))\n",
        "    # metrics[\"recon_err\"].append(reconstruction_error(A, B_fd, method='FD'))"
      ],
      "metadata": {
        "id": "2IdD92PplhVw"
      },
      "execution_count": 44,
      "outputs": []
    },
    {
      "cell_type": "code",
      "source": [
        "metrics = {\n",
        "    \"batch\": [], \"algo\": [],\n",
        "    \"fro_err\": [], \"var_ret\": [],\n",
        "    \"recon_err\": []\n",
        "}\n",
        "\n",
        "k = 50\n",
        "B_fd = None\n",
        "V_ipca = None\n",
        "\n",
        "for i, A_batch in enumerate(stream_batches):\n",
        "    A = A_batch.values\n",
        "\n",
        "    # --- GRP ---\n",
        "    # B_grp = gaussian_random_projection_sketch(A, k)\n",
        "    # metrics[\"batch\"].append(i)\n",
        "    # metrics[\"algo\"].append(\"GRP\")\n",
        "    # metrics[\"fro_err\"].append(frobenius_error(A, B_grp))\n",
        "    # metrics[\"var_ret\"].append(variance_retained(A, B_grp))\n",
        "    # metrics[\"recon_err\"].append(reconstruction_error(A, B_grp, method='GRP'))\n",
        "\n",
        "    # --- IPCA ---\n",
        "    # B_ipca, V_ipca = incremental_pca_sketch(A, k)\n",
        "    # metrics[\"batch\"].append(i)\n",
        "    # metrics[\"algo\"].append(\"IPCA\")\n",
        "    # metrics[\"fro_err\"].append(frobenius_error(A, B_ipca))\n",
        "    # metrics[\"var_ret\"].append(variance_retained(A, B_ipca))\n",
        "    # metrics[\"recon_err\"].append(reconstruction_error(A, B_ipca, method='IPCA', components=V_ipca))\n",
        "\n",
        "    # # --- FD ---\n",
        "    B_fd = frequent_directions_sketch(A, k, B=B_fd)\n",
        "    metrics[\"batch\"].append(i)\n",
        "    metrics[\"algo\"].append(\"FD\")\n",
        "    metrics[\"fro_err\"].append(frobenius_error(A, B_fd))\n",
        "    metrics[\"var_ret\"].append(variance_retained(A, B_fd))\n",
        "    metrics[\"recon_err\"].append(reconstruction_error(A, B_fd, method='FD'))"
      ],
      "metadata": {
        "id": "o0jzpMt7mC5y"
      },
      "execution_count": 46,
      "outputs": []
    },
    {
      "cell_type": "code",
      "source": [
        "df_metrics = pd.DataFrame(metrics)\n",
        "display(df_metrics.head(20))"
      ],
      "metadata": {
        "id": "Wa4w4wOamGns",
        "outputId": "e66b4df6-d6a7-458f-8542-2a960054c3c8",
        "colab": {
          "base_uri": "https://localhost:8080/",
          "height": 676
        }
      },
      "execution_count": 48,
      "outputs": [
        {
          "output_type": "display_data",
          "data": {
            "text/plain": [
              "    batch algo   fro_err   var_ret   recon_err\n",
              "0       0   FD  0.529412  0.330119   35.395352\n",
              "1       1   FD  0.593751  0.390973   69.079228\n",
              "2       2   FD  1.159523  0.693093   48.144700\n",
              "3       3   FD  0.716325  0.420890   96.154974\n",
              "4       4   FD  1.282795  0.513862   94.545243\n",
              "5       5   FD  2.101360  0.809908   89.281018\n",
              "6       6   FD  1.423358  0.545052  108.103853\n",
              "7       7   FD  1.875737  0.594664  106.318575\n",
              "8       8   FD  2.112277  0.752214  112.831150\n",
              "9       9   FD  1.823023  0.863738  158.249393\n",
              "10     10   FD  2.664338  0.876239  127.825207\n",
              "11     11   FD  2.259595  0.765191  135.214374\n",
              "12     12   FD  2.875587  0.903853  141.138125\n",
              "13     13   FD  3.013946  0.644767  103.657931\n",
              "14     14   FD  5.131086  1.393090  107.280394\n",
              "15     15   FD  4.955188  2.315869  155.473424\n",
              "16     16   FD  4.276671  1.351880  141.542254\n",
              "17     17   FD  6.074643  2.930536  122.135916\n",
              "18     18   FD  9.519541  5.055092  138.559205\n",
              "19     19   FD  5.493799  3.363574  154.336813"
            ],
            "text/html": [
              "\n",
              "  <div id=\"df-b427be5c-aba1-41a6-8952-51273a4d4c81\" class=\"colab-df-container\">\n",
              "    <div>\n",
              "<style scoped>\n",
              "    .dataframe tbody tr th:only-of-type {\n",
              "        vertical-align: middle;\n",
              "    }\n",
              "\n",
              "    .dataframe tbody tr th {\n",
              "        vertical-align: top;\n",
              "    }\n",
              "\n",
              "    .dataframe thead th {\n",
              "        text-align: right;\n",
              "    }\n",
              "</style>\n",
              "<table border=\"1\" class=\"dataframe\">\n",
              "  <thead>\n",
              "    <tr style=\"text-align: right;\">\n",
              "      <th></th>\n",
              "      <th>batch</th>\n",
              "      <th>algo</th>\n",
              "      <th>fro_err</th>\n",
              "      <th>var_ret</th>\n",
              "      <th>recon_err</th>\n",
              "    </tr>\n",
              "  </thead>\n",
              "  <tbody>\n",
              "    <tr>\n",
              "      <th>0</th>\n",
              "      <td>0</td>\n",
              "      <td>FD</td>\n",
              "      <td>0.529412</td>\n",
              "      <td>0.330119</td>\n",
              "      <td>35.395352</td>\n",
              "    </tr>\n",
              "    <tr>\n",
              "      <th>1</th>\n",
              "      <td>1</td>\n",
              "      <td>FD</td>\n",
              "      <td>0.593751</td>\n",
              "      <td>0.390973</td>\n",
              "      <td>69.079228</td>\n",
              "    </tr>\n",
              "    <tr>\n",
              "      <th>2</th>\n",
              "      <td>2</td>\n",
              "      <td>FD</td>\n",
              "      <td>1.159523</td>\n",
              "      <td>0.693093</td>\n",
              "      <td>48.144700</td>\n",
              "    </tr>\n",
              "    <tr>\n",
              "      <th>3</th>\n",
              "      <td>3</td>\n",
              "      <td>FD</td>\n",
              "      <td>0.716325</td>\n",
              "      <td>0.420890</td>\n",
              "      <td>96.154974</td>\n",
              "    </tr>\n",
              "    <tr>\n",
              "      <th>4</th>\n",
              "      <td>4</td>\n",
              "      <td>FD</td>\n",
              "      <td>1.282795</td>\n",
              "      <td>0.513862</td>\n",
              "      <td>94.545243</td>\n",
              "    </tr>\n",
              "    <tr>\n",
              "      <th>5</th>\n",
              "      <td>5</td>\n",
              "      <td>FD</td>\n",
              "      <td>2.101360</td>\n",
              "      <td>0.809908</td>\n",
              "      <td>89.281018</td>\n",
              "    </tr>\n",
              "    <tr>\n",
              "      <th>6</th>\n",
              "      <td>6</td>\n",
              "      <td>FD</td>\n",
              "      <td>1.423358</td>\n",
              "      <td>0.545052</td>\n",
              "      <td>108.103853</td>\n",
              "    </tr>\n",
              "    <tr>\n",
              "      <th>7</th>\n",
              "      <td>7</td>\n",
              "      <td>FD</td>\n",
              "      <td>1.875737</td>\n",
              "      <td>0.594664</td>\n",
              "      <td>106.318575</td>\n",
              "    </tr>\n",
              "    <tr>\n",
              "      <th>8</th>\n",
              "      <td>8</td>\n",
              "      <td>FD</td>\n",
              "      <td>2.112277</td>\n",
              "      <td>0.752214</td>\n",
              "      <td>112.831150</td>\n",
              "    </tr>\n",
              "    <tr>\n",
              "      <th>9</th>\n",
              "      <td>9</td>\n",
              "      <td>FD</td>\n",
              "      <td>1.823023</td>\n",
              "      <td>0.863738</td>\n",
              "      <td>158.249393</td>\n",
              "    </tr>\n",
              "    <tr>\n",
              "      <th>10</th>\n",
              "      <td>10</td>\n",
              "      <td>FD</td>\n",
              "      <td>2.664338</td>\n",
              "      <td>0.876239</td>\n",
              "      <td>127.825207</td>\n",
              "    </tr>\n",
              "    <tr>\n",
              "      <th>11</th>\n",
              "      <td>11</td>\n",
              "      <td>FD</td>\n",
              "      <td>2.259595</td>\n",
              "      <td>0.765191</td>\n",
              "      <td>135.214374</td>\n",
              "    </tr>\n",
              "    <tr>\n",
              "      <th>12</th>\n",
              "      <td>12</td>\n",
              "      <td>FD</td>\n",
              "      <td>2.875587</td>\n",
              "      <td>0.903853</td>\n",
              "      <td>141.138125</td>\n",
              "    </tr>\n",
              "    <tr>\n",
              "      <th>13</th>\n",
              "      <td>13</td>\n",
              "      <td>FD</td>\n",
              "      <td>3.013946</td>\n",
              "      <td>0.644767</td>\n",
              "      <td>103.657931</td>\n",
              "    </tr>\n",
              "    <tr>\n",
              "      <th>14</th>\n",
              "      <td>14</td>\n",
              "      <td>FD</td>\n",
              "      <td>5.131086</td>\n",
              "      <td>1.393090</td>\n",
              "      <td>107.280394</td>\n",
              "    </tr>\n",
              "    <tr>\n",
              "      <th>15</th>\n",
              "      <td>15</td>\n",
              "      <td>FD</td>\n",
              "      <td>4.955188</td>\n",
              "      <td>2.315869</td>\n",
              "      <td>155.473424</td>\n",
              "    </tr>\n",
              "    <tr>\n",
              "      <th>16</th>\n",
              "      <td>16</td>\n",
              "      <td>FD</td>\n",
              "      <td>4.276671</td>\n",
              "      <td>1.351880</td>\n",
              "      <td>141.542254</td>\n",
              "    </tr>\n",
              "    <tr>\n",
              "      <th>17</th>\n",
              "      <td>17</td>\n",
              "      <td>FD</td>\n",
              "      <td>6.074643</td>\n",
              "      <td>2.930536</td>\n",
              "      <td>122.135916</td>\n",
              "    </tr>\n",
              "    <tr>\n",
              "      <th>18</th>\n",
              "      <td>18</td>\n",
              "      <td>FD</td>\n",
              "      <td>9.519541</td>\n",
              "      <td>5.055092</td>\n",
              "      <td>138.559205</td>\n",
              "    </tr>\n",
              "    <tr>\n",
              "      <th>19</th>\n",
              "      <td>19</td>\n",
              "      <td>FD</td>\n",
              "      <td>5.493799</td>\n",
              "      <td>3.363574</td>\n",
              "      <td>154.336813</td>\n",
              "    </tr>\n",
              "  </tbody>\n",
              "</table>\n",
              "</div>\n",
              "    <div class=\"colab-df-buttons\">\n",
              "\n",
              "  <div class=\"colab-df-container\">\n",
              "    <button class=\"colab-df-convert\" onclick=\"convertToInteractive('df-b427be5c-aba1-41a6-8952-51273a4d4c81')\"\n",
              "            title=\"Convert this dataframe to an interactive table.\"\n",
              "            style=\"display:none;\">\n",
              "\n",
              "  <svg xmlns=\"http://www.w3.org/2000/svg\" height=\"24px\" viewBox=\"0 -960 960 960\">\n",
              "    <path d=\"M120-120v-720h720v720H120Zm60-500h600v-160H180v160Zm220 220h160v-160H400v160Zm0 220h160v-160H400v160ZM180-400h160v-160H180v160Zm440 0h160v-160H620v160ZM180-180h160v-160H180v160Zm440 0h160v-160H620v160Z\"/>\n",
              "  </svg>\n",
              "    </button>\n",
              "\n",
              "  <style>\n",
              "    .colab-df-container {\n",
              "      display:flex;\n",
              "      gap: 12px;\n",
              "    }\n",
              "\n",
              "    .colab-df-convert {\n",
              "      background-color: #E8F0FE;\n",
              "      border: none;\n",
              "      border-radius: 50%;\n",
              "      cursor: pointer;\n",
              "      display: none;\n",
              "      fill: #1967D2;\n",
              "      height: 32px;\n",
              "      padding: 0 0 0 0;\n",
              "      width: 32px;\n",
              "    }\n",
              "\n",
              "    .colab-df-convert:hover {\n",
              "      background-color: #E2EBFA;\n",
              "      box-shadow: 0px 1px 2px rgba(60, 64, 67, 0.3), 0px 1px 3px 1px rgba(60, 64, 67, 0.15);\n",
              "      fill: #174EA6;\n",
              "    }\n",
              "\n",
              "    .colab-df-buttons div {\n",
              "      margin-bottom: 4px;\n",
              "    }\n",
              "\n",
              "    [theme=dark] .colab-df-convert {\n",
              "      background-color: #3B4455;\n",
              "      fill: #D2E3FC;\n",
              "    }\n",
              "\n",
              "    [theme=dark] .colab-df-convert:hover {\n",
              "      background-color: #434B5C;\n",
              "      box-shadow: 0px 1px 3px 1px rgba(0, 0, 0, 0.15);\n",
              "      filter: drop-shadow(0px 1px 2px rgba(0, 0, 0, 0.3));\n",
              "      fill: #FFFFFF;\n",
              "    }\n",
              "  </style>\n",
              "\n",
              "    <script>\n",
              "      const buttonEl =\n",
              "        document.querySelector('#df-b427be5c-aba1-41a6-8952-51273a4d4c81 button.colab-df-convert');\n",
              "      buttonEl.style.display =\n",
              "        google.colab.kernel.accessAllowed ? 'block' : 'none';\n",
              "\n",
              "      async function convertToInteractive(key) {\n",
              "        const element = document.querySelector('#df-b427be5c-aba1-41a6-8952-51273a4d4c81');\n",
              "        const dataTable =\n",
              "          await google.colab.kernel.invokeFunction('convertToInteractive',\n",
              "                                                    [key], {});\n",
              "        if (!dataTable) return;\n",
              "\n",
              "        const docLinkHtml = 'Like what you see? Visit the ' +\n",
              "          '<a target=\"_blank\" href=https://colab.research.google.com/notebooks/data_table.ipynb>data table notebook</a>'\n",
              "          + ' to learn more about interactive tables.';\n",
              "        element.innerHTML = '';\n",
              "        dataTable['output_type'] = 'display_data';\n",
              "        await google.colab.output.renderOutput(dataTable, element);\n",
              "        const docLink = document.createElement('div');\n",
              "        docLink.innerHTML = docLinkHtml;\n",
              "        element.appendChild(docLink);\n",
              "      }\n",
              "    </script>\n",
              "  </div>\n",
              "\n",
              "\n",
              "    <div id=\"df-5490fb2a-ab17-4a18-9905-d00821b4aa30\">\n",
              "      <button class=\"colab-df-quickchart\" onclick=\"quickchart('df-5490fb2a-ab17-4a18-9905-d00821b4aa30')\"\n",
              "                title=\"Suggest charts\"\n",
              "                style=\"display:none;\">\n",
              "\n",
              "<svg xmlns=\"http://www.w3.org/2000/svg\" height=\"24px\"viewBox=\"0 0 24 24\"\n",
              "     width=\"24px\">\n",
              "    <g>\n",
              "        <path d=\"M19 3H5c-1.1 0-2 .9-2 2v14c0 1.1.9 2 2 2h14c1.1 0 2-.9 2-2V5c0-1.1-.9-2-2-2zM9 17H7v-7h2v7zm4 0h-2V7h2v10zm4 0h-2v-4h2v4z\"/>\n",
              "    </g>\n",
              "</svg>\n",
              "      </button>\n",
              "\n",
              "<style>\n",
              "  .colab-df-quickchart {\n",
              "      --bg-color: #E8F0FE;\n",
              "      --fill-color: #1967D2;\n",
              "      --hover-bg-color: #E2EBFA;\n",
              "      --hover-fill-color: #174EA6;\n",
              "      --disabled-fill-color: #AAA;\n",
              "      --disabled-bg-color: #DDD;\n",
              "  }\n",
              "\n",
              "  [theme=dark] .colab-df-quickchart {\n",
              "      --bg-color: #3B4455;\n",
              "      --fill-color: #D2E3FC;\n",
              "      --hover-bg-color: #434B5C;\n",
              "      --hover-fill-color: #FFFFFF;\n",
              "      --disabled-bg-color: #3B4455;\n",
              "      --disabled-fill-color: #666;\n",
              "  }\n",
              "\n",
              "  .colab-df-quickchart {\n",
              "    background-color: var(--bg-color);\n",
              "    border: none;\n",
              "    border-radius: 50%;\n",
              "    cursor: pointer;\n",
              "    display: none;\n",
              "    fill: var(--fill-color);\n",
              "    height: 32px;\n",
              "    padding: 0;\n",
              "    width: 32px;\n",
              "  }\n",
              "\n",
              "  .colab-df-quickchart:hover {\n",
              "    background-color: var(--hover-bg-color);\n",
              "    box-shadow: 0 1px 2px rgba(60, 64, 67, 0.3), 0 1px 3px 1px rgba(60, 64, 67, 0.15);\n",
              "    fill: var(--button-hover-fill-color);\n",
              "  }\n",
              "\n",
              "  .colab-df-quickchart-complete:disabled,\n",
              "  .colab-df-quickchart-complete:disabled:hover {\n",
              "    background-color: var(--disabled-bg-color);\n",
              "    fill: var(--disabled-fill-color);\n",
              "    box-shadow: none;\n",
              "  }\n",
              "\n",
              "  .colab-df-spinner {\n",
              "    border: 2px solid var(--fill-color);\n",
              "    border-color: transparent;\n",
              "    border-bottom-color: var(--fill-color);\n",
              "    animation:\n",
              "      spin 1s steps(1) infinite;\n",
              "  }\n",
              "\n",
              "  @keyframes spin {\n",
              "    0% {\n",
              "      border-color: transparent;\n",
              "      border-bottom-color: var(--fill-color);\n",
              "      border-left-color: var(--fill-color);\n",
              "    }\n",
              "    20% {\n",
              "      border-color: transparent;\n",
              "      border-left-color: var(--fill-color);\n",
              "      border-top-color: var(--fill-color);\n",
              "    }\n",
              "    30% {\n",
              "      border-color: transparent;\n",
              "      border-left-color: var(--fill-color);\n",
              "      border-top-color: var(--fill-color);\n",
              "      border-right-color: var(--fill-color);\n",
              "    }\n",
              "    40% {\n",
              "      border-color: transparent;\n",
              "      border-right-color: var(--fill-color);\n",
              "      border-top-color: var(--fill-color);\n",
              "    }\n",
              "    60% {\n",
              "      border-color: transparent;\n",
              "      border-right-color: var(--fill-color);\n",
              "    }\n",
              "    80% {\n",
              "      border-color: transparent;\n",
              "      border-right-color: var(--fill-color);\n",
              "      border-bottom-color: var(--fill-color);\n",
              "    }\n",
              "    90% {\n",
              "      border-color: transparent;\n",
              "      border-bottom-color: var(--fill-color);\n",
              "    }\n",
              "  }\n",
              "</style>\n",
              "\n",
              "      <script>\n",
              "        async function quickchart(key) {\n",
              "          const quickchartButtonEl =\n",
              "            document.querySelector('#' + key + ' button');\n",
              "          quickchartButtonEl.disabled = true;  // To prevent multiple clicks.\n",
              "          quickchartButtonEl.classList.add('colab-df-spinner');\n",
              "          try {\n",
              "            const charts = await google.colab.kernel.invokeFunction(\n",
              "                'suggestCharts', [key], {});\n",
              "          } catch (error) {\n",
              "            console.error('Error during call to suggestCharts:', error);\n",
              "          }\n",
              "          quickchartButtonEl.classList.remove('colab-df-spinner');\n",
              "          quickchartButtonEl.classList.add('colab-df-quickchart-complete');\n",
              "        }\n",
              "        (() => {\n",
              "          let quickchartButtonEl =\n",
              "            document.querySelector('#df-5490fb2a-ab17-4a18-9905-d00821b4aa30 button');\n",
              "          quickchartButtonEl.style.display =\n",
              "            google.colab.kernel.accessAllowed ? 'block' : 'none';\n",
              "        })();\n",
              "      </script>\n",
              "    </div>\n",
              "    </div>\n",
              "  </div>\n"
            ],
            "application/vnd.google.colaboratory.intrinsic+json": {
              "type": "dataframe",
              "summary": "{\n  \"name\": \"display(df_metrics\",\n  \"rows\": 20,\n  \"fields\": [\n    {\n      \"column\": \"batch\",\n      \"properties\": {\n        \"dtype\": \"number\",\n        \"std\": 5,\n        \"min\": 0,\n        \"max\": 19,\n        \"num_unique_values\": 20,\n        \"samples\": [\n          0,\n          17,\n          15\n        ],\n        \"semantic_type\": \"\",\n        \"description\": \"\"\n      }\n    },\n    {\n      \"column\": \"algo\",\n      \"properties\": {\n        \"dtype\": \"category\",\n        \"num_unique_values\": 1,\n        \"samples\": [\n          \"FD\"\n        ],\n        \"semantic_type\": \"\",\n        \"description\": \"\"\n      }\n    },\n    {\n      \"column\": \"fro_err\",\n      \"properties\": {\n        \"dtype\": \"number\",\n        \"std\": 2.2829193350515657,\n        \"min\": 0.5294122220435974,\n        \"max\": 9.519541133898272,\n        \"num_unique_values\": 20,\n        \"samples\": [\n          0.5294122220435974\n        ],\n        \"semantic_type\": \"\",\n        \"description\": \"\"\n      }\n    },\n    {\n      \"column\": \"var_ret\",\n      \"properties\": {\n        \"dtype\": \"number\",\n        \"std\": 1.2231395573270325,\n        \"min\": 0.3301191205206497,\n        \"max\": 5.0550920309939595,\n        \"num_unique_values\": 20,\n        \"samples\": [\n          0.3301191205206497\n        ],\n        \"semantic_type\": \"\",\n        \"description\": \"\"\n      }\n    },\n    {\n      \"column\": \"recon_err\",\n      \"properties\": {\n        \"dtype\": \"number\",\n        \"std\": 34.135237918926244,\n        \"min\": 35.395352185496975,\n        \"max\": 158.2493933627133,\n        \"num_unique_values\": 20,\n        \"samples\": [\n          35.395352185496975\n        ],\n        \"semantic_type\": \"\",\n        \"description\": \"\"\n      }\n    }\n  ]\n}"
            }
          },
          "metadata": {}
        }
      ]
    }
  ]
}